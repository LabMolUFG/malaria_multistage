{
 "cells": [
  {
   "cell_type": "code",
   "execution_count": 1,
   "metadata": {
    "tags": []
   },
   "outputs": [
    {
     "name": "stdout",
     "output_type": "stream",
     "text": [
      "c:\\Users\\User\\Documents\\5-fold_3d7_proba\n"
     ]
    }
   ],
   "source": [
    "# import functions\n",
    "import sys,os\n",
    "import glob\n",
    "try: \n",
    "    if(cwd is not None):\n",
    "        from functions.utils_binary import *\n",
    "except:\n",
    "    %cd ..\n",
    "    cwd = os.getcwd()\n",
    "    sys.path.insert(0,cwd)\n",
    "    from functions.utils_binary import *"
   ]
  },
  {
   "cell_type": "code",
   "execution_count": 2,
   "metadata": {
    "tags": []
   },
   "outputs": [],
   "source": [
    "# prepare data for training\n",
    "defineXY(testSize=0.2, trainSize=0.8, randomState=4) # only needed to be run once"
   ]
  },
  {
   "cell_type": "markdown",
   "metadata": {},
   "source": [
    "## Boosting methods (XGBoost, Ada and LightGBM)"
   ]
  },
  {
   "cell_type": "code",
   "execution_count": null,
   "metadata": {},
   "outputs": [],
   "source": [
    "# setting search space\n",
    "\n",
    "xgb_search = {\n",
    "'learning_rate': Real(0.01, 1.0, 'uniform'),\n",
    "'max_depth': Integer(2, 12),\n",
    "'subsample': Real(0.1, 1.0, 'uniform'),\n",
    "'colsample_bytree': Real(0.1, 1.0, 'uniform'),\n",
    "'reg_alpha': Real(1e-9, 100., 'uniform'),\n",
    "'n_estimators': Integer(50, 5000)\n",
    "}\n",
    "\n",
    "ada_search = {\n",
    "    'learning_rate': Real(0.005, 0.9, prior=\"log-uniform\"),\n",
    "    'n_estimators': Integer(1, 1000),\n",
    "}\n",
    "\n",
    "lgbm_search = {\n",
    "    'reg_sqrt': Categorical([True, False]),\n",
    "    'learning_rate': Real(0.01, 1.0, 'log-uniform'),     # Boosting learning rate\n",
    "    'n_estimators': Integer(30, 5000),                   # Number of boosted trees to fit\n",
    "    'num_leaves': Integer(2, 512),                       # Maximum tree leaves for base learners\n",
    "    'max_depth': Integer(-1, 256),                       # Maximum tree depth for base learners, <=0 means no limit\n",
    "    'subsample': Real(0.01, 1.0, 'uniform'),             # Subsample ratio of the training instance\n",
    "    'subsample_freq': Integer(1, 10),                    # Frequency of subsample, <=0 means no enable\n",
    "    'colsample_bytree': Real(0.01, 1.0, 'uniform'),      # Subsample ratio of columns when constructing each tree\n",
    "    'reg_lambda': Real(1e-9, 100.0, 'log-uniform'),      # L2 regularization\n",
    "    'reg_alpha': Real(1e-9, 100.0, 'log-uniform'),       # L1 regularization\n",
    "   }"
   ]
  },
  {
   "cell_type": "code",
   "execution_count": null,
   "metadata": {},
   "outputs": [],
   "source": [
    "# scorer\n",
    "f1_scorer = make_scorer(f1_score, pos_label=1)\n",
    "\n",
    "# Setting the validation strategy\n",
    "inner_skf = StratifiedKFold(n_splits=5, shuffle=True, random_state=2)\n",
    "outer_skf = StratifiedKFold(n_splits=5, shuffle=True, random_state=2)"
   ]
  },
  {
   "cell_type": "code",
   "execution_count": null,
   "metadata": {},
   "outputs": [],
   "source": [
    "# initiate models\n",
    "init_models = [xgb.XGBClassifier(), LGBMClassifier(), AdaBoostClassifier()]\n",
    "\n",
    "# search spaces\n",
    "search_spaces = [xgb_search, lgbm_search, ada_search]"
   ]
  },
  {
   "cell_type": "code",
   "execution_count": null,
   "metadata": {},
   "outputs": [],
   "source": [
    "# define fp generated\n",
    "fp_generated = ['ecfp_fp_2_2048', 'fcfp_fp_2_2048', 'maccs_fp']\n",
    "\n",
    "for fp in fp_generated:\n",
    "\n",
    "    # run through x train\n",
    "    for file in os.listdir('./data/curated_data/x/binary/x_train/'):\n",
    "\n",
    "        # run through y train\n",
    "        for file_ in os.listdir('./data/curated_data/y/binary/y_train/'):\n",
    "\n",
    "            # check if file is json file\n",
    "            if file.endswith('json'):\n",
    "\n",
    "                #check if files share the same fp, if so, continue\n",
    "                if file.find(fp) != -1 and  file_.find(fp) != -1:\n",
    "                    \n",
    "                    # load x_train\n",
    "                    with open(f'./data/curated_data/x/binary/x_train/{file}', 'r') as x_train:\n",
    "                        x_train = json.load(x_train)\n",
    "                        x_train= np.asarray(x_train)\n",
    "\n",
    "\n",
    "                    # load y_train\n",
    "                    with open(f'./data/curated_data/y/binary/y_train/{file_}', 'r') as y_train:\n",
    "                        y_train = json.load(y_train)\n",
    "                        y_train= np.asarray(y_train)\n",
    "\n",
    "                    # training\n",
    "                    bayessearch(\n",
    "                        models = init_models, \n",
    "                        search_spaces = search_spaces, \n",
    "                        scorer = f1_scorer,\n",
    "                        inner_cv = inner_skf,\n",
    "                        outer_cv = outer_skf,\n",
    "                        x = x_train,\n",
    "                        y = y_train,\n",
    "                        fp = fp\n",
    "                    )"
   ]
  },
  {
   "cell_type": "code",
   "execution_count": null,
   "metadata": {},
   "outputs": [],
   "source": [
    "%%capture\n",
    "validatemodels() #only for boosting methods"
   ]
  },
  {
   "cell_type": "markdown",
   "metadata": {},
   "source": [
    "# Non boosting methods"
   ]
  },
  {
   "cell_type": "code",
   "execution_count": 3,
   "metadata": {
    "tags": []
   },
   "outputs": [
    {
     "name": "stdout",
     "output_type": "stream",
     "text": [
      "model took 8940.90 seconds,  candidates checked: 50, best CV score: 0.737 ± 0.004\n",
      "Best parameters:\n",
      "OrderedDict([('max_depth', 93), ('max_features', 'sqrt'), ('min_samples_leaf', 1), ('min_samples_split', 5), ('n_estimators', 376)])\n",
      "\n"
     ]
    },
    {
     "data": {
      "text/plain": [
       "['./data/models/binary/rf_classifier_fcfp_fp_2_2048.joblib']"
      ]
     },
     "execution_count": 3,
     "metadata": {},
     "output_type": "execute_result"
    }
   ],
   "source": [
    "\"\"\"\n",
    "Make sure when introducing a new classifier to create a folder with the model name at the following directories:\n",
    "./data/models/binary/metrics/BACC/{MODEL_NAME}\n",
    "./data/models/binary/metrics/AUC/{MODEL_NAME}\n",
    "\"\"\"\n",
    "\n",
    "\n",
    "# define search space\n",
    "rf_search = {\n",
    "    'max_features': ['sqrt'],\n",
    "    'n_estimators': [100, 1000],\n",
    "    'max_depth': [2, 100],\n",
    "    'min_samples_leaf': [1,20], \n",
    "    'min_samples_split': [2, 20]\n",
    "    }\n",
    "\n",
    "svc_search = {'C': [0.1, 1, 10, 100, 1000], \n",
    "              'gamma': [1, 0.1, 0.01, 0.001, 0.0001],\n",
    "              'kernel': ['rbf']}\n",
    "\n",
    "knn_search = {\n",
    "    'n_neighbors' : [3, 5, 11, 19],\n",
    "    'weights' : ['uniform', 'distance'],\n",
    "    'metric' : ['euclidean', 'manhattan']\n",
    "}\n",
    "\n",
    "# define variables\n",
    "fp = 'fcfp_fp_2_2048'\n",
    "model = RandomForestClassifier # classifier \n",
    "#model = SVC\n",
    "#model = KNeighborsClassifier\n",
    "model_name = 'rf' \n",
    "\n",
    "\n",
    "# load x_train\n",
    "with open(f'./data/curated_data/x/binary/x_train/x_train_{fp}.json', 'r') as x_train:\n",
    "    x_train = json.load(x_train)\n",
    "    x_train= np.asarray(x_train)\n",
    "\n",
    "\n",
    "# load y_train\n",
    "with open(f'./data/curated_data/y/binary/y_train/y_train_{fp}.json', 'r') as y_train:\n",
    "    y_train = json.load(y_train)\n",
    "    y_train= np.asarray(y_train)\n",
    "\n",
    "# scorer\n",
    "f1_scorer = make_scorer(f1_score, pos_label=1)\n",
    "\n",
    "# Setting the validation strategy\n",
    "inner_skf = StratifiedKFold(n_splits=5, shuffle=True, random_state=2)\n",
    "outer_skf = StratifiedKFold(n_splits=5, shuffle=True, random_state=2)\n",
    "\n",
    "# callback funtions\n",
    "overdone_control = DeltaYStopper(delta=0.0001) # early stop\n",
    "time_limit_control = DeadlineStopper(total_time=60*60*4) #7h time limit\n",
    "\n",
    "# initialize model\n",
    "model_ini = model(random_state=0) # classifier \n",
    "\n",
    "# invoke bayes search\n",
    "opt = BayesSearchCV(\n",
    "    estimator=model_ini, \n",
    "    search_spaces=rf_search,\n",
    "    scoring=f1_scorer,\n",
    "    cv=inner_skf,\n",
    "    n_points=1,\n",
    "    n_jobs=-1,\n",
    "    return_train_score=False,\n",
    "    refit=False,\n",
    "    optimizer_kwargs={'base_estimator': 'GP'},\n",
    "    random_state=0\n",
    ")\n",
    "\n",
    "# search for best params\n",
    "best_params = report_perf(opt, x_train, y_train, callbacks=[overdone_control, time_limit_control])\n",
    "\n",
    "# Transferring best parameters to basic classifier\n",
    "basic_clas = model(**best_params)\n",
    "\n",
    "# cross validate with best params\n",
    "\n",
    "# cross validate to get confusion matrix\n",
    "cv_results = cross_validate(basic_clas, x_train, y_train, cv=outer_skf, scoring=confusion_matrix_scorer)\n",
    "# cross validate to get auc\n",
    "cv_auc = cross_validate(basic_clas, x_train, y_train, cv=outer_skf, scoring='roc_auc')\n",
    "\n",
    "\n",
    "cv_proba_results = cross_validate(basic_clas, x_train, y_train, cv=outer_skf, scoring=confusion_matrix_scorer_proba)\n",
    "cv_proba_results = pd.DataFrame(cv_proba_results)\n",
    "cv_proba_results.to_csv(f'./data/models/binary/metrics/{model_name}_classifier_5cv_{fp}_PROBA.csv', index = False)\n",
    "\n",
    "# save cross validation auc metrics\n",
    "cv_auc = pd.DataFrame(cv_auc)\n",
    "cv_auc.to_csv(f'./data/models/binary/metrics/AUC/{model_name}/{model_name}_classifier_auc_{fp}.csv', index = False)\n",
    "\n",
    "# save cross validation confusion matrix\n",
    "cv_results = pd.DataFrame(cv_results)\n",
    "cv_results.to_csv(f'./data/models/binary/metrics/{model_name}_classifier_5cv_{fp}.csv', index = False)\n",
    "cv_results.to_csv(f'./data/models/binary/metrics/BACC/{model_name}/{model_name}_classifier_5cv_{fp}.csv', index = False)\n",
    "\n",
    "# fit model with entire dataset\n",
    "model = basic_clas.fit(x_train, y_train)\n",
    "\n",
    "# save model\n",
    "dump(model, f'./data/models/binary/{model_name}_classifier_{fp}.joblib')"
   ]
  },
  {
   "cell_type": "code",
   "execution_count": 4,
   "metadata": {},
   "outputs": [
    {
     "data": {
      "text/html": [
       "<div>\n",
       "<style scoped>\n",
       "    .dataframe tbody tr th:only-of-type {\n",
       "        vertical-align: middle;\n",
       "    }\n",
       "\n",
       "    .dataframe tbody tr th {\n",
       "        vertical-align: top;\n",
       "    }\n",
       "\n",
       "    .dataframe thead th {\n",
       "        text-align: right;\n",
       "    }\n",
       "</style>\n",
       "<table border=\"1\" class=\"dataframe\">\n",
       "  <thead>\n",
       "    <tr style=\"text-align: right;\">\n",
       "      <th></th>\n",
       "      <th>fit_time</th>\n",
       "      <th>score_time</th>\n",
       "      <th>test_tn</th>\n",
       "      <th>test_fp</th>\n",
       "      <th>test_fn</th>\n",
       "      <th>test_tp</th>\n",
       "    </tr>\n",
       "  </thead>\n",
       "  <tbody>\n",
       "    <tr>\n",
       "      <th>0</th>\n",
       "      <td>78.307747</td>\n",
       "      <td>0.739023</td>\n",
       "      <td>2823</td>\n",
       "      <td>469</td>\n",
       "      <td>662</td>\n",
       "      <td>1741</td>\n",
       "    </tr>\n",
       "    <tr>\n",
       "      <th>1</th>\n",
       "      <td>78.897171</td>\n",
       "      <td>0.740027</td>\n",
       "      <td>2828</td>\n",
       "      <td>463</td>\n",
       "      <td>689</td>\n",
       "      <td>1714</td>\n",
       "    </tr>\n",
       "    <tr>\n",
       "      <th>2</th>\n",
       "      <td>79.362920</td>\n",
       "      <td>0.742017</td>\n",
       "      <td>2876</td>\n",
       "      <td>415</td>\n",
       "      <td>718</td>\n",
       "      <td>1685</td>\n",
       "    </tr>\n",
       "    <tr>\n",
       "      <th>3</th>\n",
       "      <td>79.238322</td>\n",
       "      <td>0.745010</td>\n",
       "      <td>2842</td>\n",
       "      <td>450</td>\n",
       "      <td>685</td>\n",
       "      <td>1717</td>\n",
       "    </tr>\n",
       "    <tr>\n",
       "      <th>4</th>\n",
       "      <td>78.941078</td>\n",
       "      <td>0.735008</td>\n",
       "      <td>2814</td>\n",
       "      <td>478</td>\n",
       "      <td>665</td>\n",
       "      <td>1737</td>\n",
       "    </tr>\n",
       "  </tbody>\n",
       "</table>\n",
       "</div>"
      ],
      "text/plain": [
       "    fit_time  score_time  test_tn  test_fp  test_fn  test_tp\n",
       "0  78.307747    0.739023     2823      469      662     1741\n",
       "1  78.897171    0.740027     2828      463      689     1714\n",
       "2  79.362920    0.742017     2876      415      718     1685\n",
       "3  79.238322    0.745010     2842      450      685     1717\n",
       "4  78.941078    0.735008     2814      478      665     1737"
      ]
     },
     "execution_count": 4,
     "metadata": {},
     "output_type": "execute_result"
    }
   ],
   "source": [
    "cv_proba_results"
   ]
  },
  {
   "cell_type": "code",
   "execution_count": 5,
   "metadata": {
    "tags": []
   },
   "outputs": [
    {
     "data": {
      "text/plain": [
       "<Figure size 640x480 with 0 Axes>"
      ]
     },
     "metadata": {},
     "output_type": "display_data"
    }
   ],
   "source": [
    "# 5 FOLD CROSS VALIDATION PLOT WITH STD \n",
    "\n",
    "model_metrics = pd.read_csv(f'./data/models/binary/metrics/rf_classifier_5cv_fcfp_fp_2_2048_PROBA.csv')\n",
    "metrics_inner = metrics_internal_binary(model_metrics)\n",
    "\n",
    "\n",
    "mean_metrics = [np.mean(metrics_inner[column]) for column in metrics_inner.columns]\n",
    "std_metrics = [np.std(metrics_inner[column]) for column in metrics_inner.columns]\n",
    "labels = ['Se', 'Sp', 'Precision', 'BACC', 'MCC', 'F1']\n",
    "\n",
    "x_pos = np.arange(len(labels))\n",
    "fig, ax = plt.subplots()\n",
    "barplot = ax.bar(x_pos, mean_metrics,\n",
    "    yerr=std_metrics,\n",
    "    align='center',\n",
    "    alpha=0.5,\n",
    "    ecolor='black',\n",
    "    capsize=10, color = 'gray')\n",
    "ax.set_ylabel('Value')\n",
    "ax.set_xticks(x_pos)\n",
    "ax.set_xticklabels(labels)\n",
    "ax.yaxis.grid(False)\n",
    "\n",
    "ax.bar_label(barplot, labels=['±%.2f' % e for e in std_metrics], padding=3, color='black', fontsize=9)\n",
    "\n",
    "# Save the figure and show\n",
    "plt.tight_layout()\n",
    "plt.savefig(f'./data/figs/rf_classifier_5cv_fcfp_fp_2_1024_5cv.png', dpi=300)\n",
    "plt.clf()\n"
   ]
  },
  {
   "cell_type": "code",
   "execution_count": null,
   "metadata": {},
   "outputs": [],
   "source": [
    "# PLOT AUC COMPARISON PLOT PER FINGERPRINT \n",
    "\n",
    "# make sure to enter the correct directory where auc metrics are saved\n",
    "model_0 = pd.read_csv(f'./data/models/binary/metrics/AUC/rf/rf_classifier_auc_ecfp_fp_2_1024.csv')\n",
    "model_1 = pd.read_csv(f'./data/models/binary/metrics/AUC/lgbm/lgbm_classifier_auc_ecfp_fp_2_1024.csv')\n",
    "model_2 = pd.read_csv(f'./data/models/binary/metrics/AUC/xgb/xgb_classifier_auc_ecfp_fp_2_1024.csv')\n",
    "\n",
    "\n",
    "# change the names of the algorithm accordingly (if needed you can increase the number of models compared)\n",
    "dictHolder = pd.DataFrame({'x_values':[], 'LGBM': [], 'ADABoost': [], 'XGBoost':[]})\n",
    "\n",
    "# make sure to add one more dictHolder if more than 3 algorithms are added, or to remove one if needed\n",
    "dictHolder['RF'] = [i for i in model_0['test_score']]\n",
    "dictHolder['LGBM'] = [i for i in model_1['test_score']]\n",
    "dictHolder['XGBoost'] = [i for i in model_2['test_score']]\n",
    "dictHolder['x_values'] = [f'fold_{i}' for i in range(5)]\n",
    "\n",
    "# multiple line plots, add one for each model and change algorithm name accordingly\n",
    "plt.plot( 'x_values', 'LGBM', data=dictHolder, marker='^', markerfacecolor='white', markersize=8, color='blue', linewidth=2, \n",
    "linestyle='dashed', label = f\"LGBM mean {round(st.mean(dictHolder['LGBM']), 2)}\")\n",
    "\n",
    "plt.plot( 'x_values', 'XGBoost', data=dictHolder, marker='v', markerfacecolor='white', markersize=8, color='red', linewidth=2, \n",
    "linestyle='dashed', label = f\"XGBoost mean {round(st.mean(dictHolder['XGBoost']), 2)}\")\n",
    "\n",
    "plt.plot( 'x_values', 'RF', data=dictHolder, marker='x', markerfacecolor='white', markersize=8, color='black', linewidth=2, \n",
    "linestyle='dashed', label = f\"RF mean {round(st.mean(dictHolder['RF']), 2)}\")\n",
    "\n",
    "\n",
    "# choose a title\n",
    "plt.title(f'5-fold cross validation ECFP4 1024')\n",
    "\n",
    "# choose label for y\n",
    "plt.ylabel('AUC')\n",
    "\n",
    "# show legend\n",
    "plt.legend()\n",
    "\n",
    "# save, remmeber to add the correct fingerprint in the image name before saving\n",
    "#plt.savefig(f'./data/figs/auc_compared_nonboost_ecfp_fp_2_1024.png', dpi=300)\n",
    "#plt.clf()"
   ]
  },
  {
   "cell_type": "code",
   "execution_count": 9,
   "metadata": {},
   "outputs": [
    {
     "ename": "FileNotFoundError",
     "evalue": "[Errno 2] No such file or directory: './data/models/binary/metrics/BACC/rf/rf_classifier_5cv_ecfp_fp_2_1024.csv'",
     "output_type": "error",
     "traceback": [
      "\u001b[1;31m---------------------------------------------------------------------------\u001b[0m",
      "\u001b[1;31mFileNotFoundError\u001b[0m                         Traceback (most recent call last)",
      "Cell \u001b[1;32mIn[9], line 4\u001b[0m\n\u001b[0;32m      1\u001b[0m \u001b[39m# PLOT BACC COMPARISON PLOT PER FINGERPRINT \u001b[39;00m\n\u001b[0;32m      2\u001b[0m \n\u001b[0;32m      3\u001b[0m \u001b[39m# make sure to enter the correct directory where auc metrics are saved\u001b[39;00m\n\u001b[1;32m----> 4\u001b[0m model_0 \u001b[39m=\u001b[39m pd\u001b[39m.\u001b[39;49mread_csv(\u001b[39mf\u001b[39;49m\u001b[39m'\u001b[39;49m\u001b[39m./data/models/binary/metrics/BACC/rf/rf_classifier_5cv_ecfp_fp_2_1024.csv\u001b[39;49m\u001b[39m'\u001b[39;49m)\n\u001b[0;32m      5\u001b[0m model_1 \u001b[39m=\u001b[39m pd\u001b[39m.\u001b[39mread_csv(\u001b[39mf\u001b[39m\u001b[39m'\u001b[39m\u001b[39m./data/models/binary/metrics/BACC/lgbm/lgbm_classifier_5cv_ecfp_fp_2_1024.csv\u001b[39m\u001b[39m'\u001b[39m)\n\u001b[0;32m      6\u001b[0m model_2 \u001b[39m=\u001b[39m pd\u001b[39m.\u001b[39mread_csv(\u001b[39mf\u001b[39m\u001b[39m'\u001b[39m\u001b[39m./data/models/binary/metrics/BACC/xgb/xgb_classifier_5cv_ecfp_fp_2_1024.csv\u001b[39m\u001b[39m'\u001b[39m)\n",
      "File \u001b[1;32mc:\\Users\\User\\anaconda3\\envs\\chem_pipeline\\lib\\site-packages\\pandas\\util\\_decorators.py:211\u001b[0m, in \u001b[0;36mdeprecate_kwarg.<locals>._deprecate_kwarg.<locals>.wrapper\u001b[1;34m(*args, **kwargs)\u001b[0m\n\u001b[0;32m    209\u001b[0m     \u001b[39melse\u001b[39;00m:\n\u001b[0;32m    210\u001b[0m         kwargs[new_arg_name] \u001b[39m=\u001b[39m new_arg_value\n\u001b[1;32m--> 211\u001b[0m \u001b[39mreturn\u001b[39;00m func(\u001b[39m*\u001b[39margs, \u001b[39m*\u001b[39m\u001b[39m*\u001b[39mkwargs)\n",
      "File \u001b[1;32mc:\\Users\\User\\anaconda3\\envs\\chem_pipeline\\lib\\site-packages\\pandas\\util\\_decorators.py:317\u001b[0m, in \u001b[0;36mdeprecate_nonkeyword_arguments.<locals>.decorate.<locals>.wrapper\u001b[1;34m(*args, **kwargs)\u001b[0m\n\u001b[0;32m    311\u001b[0m \u001b[39mif\u001b[39;00m \u001b[39mlen\u001b[39m(args) \u001b[39m>\u001b[39m num_allow_args:\n\u001b[0;32m    312\u001b[0m     warnings\u001b[39m.\u001b[39mwarn(\n\u001b[0;32m    313\u001b[0m         msg\u001b[39m.\u001b[39mformat(arguments\u001b[39m=\u001b[39marguments),\n\u001b[0;32m    314\u001b[0m         \u001b[39mFutureWarning\u001b[39;00m,\n\u001b[0;32m    315\u001b[0m         stacklevel\u001b[39m=\u001b[39mfind_stack_level(inspect\u001b[39m.\u001b[39mcurrentframe()),\n\u001b[0;32m    316\u001b[0m     )\n\u001b[1;32m--> 317\u001b[0m \u001b[39mreturn\u001b[39;00m func(\u001b[39m*\u001b[39margs, \u001b[39m*\u001b[39m\u001b[39m*\u001b[39mkwargs)\n",
      "File \u001b[1;32mc:\\Users\\User\\anaconda3\\envs\\chem_pipeline\\lib\\site-packages\\pandas\\io\\parsers\\readers.py:950\u001b[0m, in \u001b[0;36mread_csv\u001b[1;34m(filepath_or_buffer, sep, delimiter, header, names, index_col, usecols, squeeze, prefix, mangle_dupe_cols, dtype, engine, converters, true_values, false_values, skipinitialspace, skiprows, skipfooter, nrows, na_values, keep_default_na, na_filter, verbose, skip_blank_lines, parse_dates, infer_datetime_format, keep_date_col, date_parser, dayfirst, cache_dates, iterator, chunksize, compression, thousands, decimal, lineterminator, quotechar, quoting, doublequote, escapechar, comment, encoding, encoding_errors, dialect, error_bad_lines, warn_bad_lines, on_bad_lines, delim_whitespace, low_memory, memory_map, float_precision, storage_options)\u001b[0m\n\u001b[0;32m    935\u001b[0m kwds_defaults \u001b[39m=\u001b[39m _refine_defaults_read(\n\u001b[0;32m    936\u001b[0m     dialect,\n\u001b[0;32m    937\u001b[0m     delimiter,\n\u001b[1;32m   (...)\u001b[0m\n\u001b[0;32m    946\u001b[0m     defaults\u001b[39m=\u001b[39m{\u001b[39m\"\u001b[39m\u001b[39mdelimiter\u001b[39m\u001b[39m\"\u001b[39m: \u001b[39m\"\u001b[39m\u001b[39m,\u001b[39m\u001b[39m\"\u001b[39m},\n\u001b[0;32m    947\u001b[0m )\n\u001b[0;32m    948\u001b[0m kwds\u001b[39m.\u001b[39mupdate(kwds_defaults)\n\u001b[1;32m--> 950\u001b[0m \u001b[39mreturn\u001b[39;00m _read(filepath_or_buffer, kwds)\n",
      "File \u001b[1;32mc:\\Users\\User\\anaconda3\\envs\\chem_pipeline\\lib\\site-packages\\pandas\\io\\parsers\\readers.py:605\u001b[0m, in \u001b[0;36m_read\u001b[1;34m(filepath_or_buffer, kwds)\u001b[0m\n\u001b[0;32m    602\u001b[0m _validate_names(kwds\u001b[39m.\u001b[39mget(\u001b[39m\"\u001b[39m\u001b[39mnames\u001b[39m\u001b[39m\"\u001b[39m, \u001b[39mNone\u001b[39;00m))\n\u001b[0;32m    604\u001b[0m \u001b[39m# Create the parser.\u001b[39;00m\n\u001b[1;32m--> 605\u001b[0m parser \u001b[39m=\u001b[39m TextFileReader(filepath_or_buffer, \u001b[39m*\u001b[39m\u001b[39m*\u001b[39mkwds)\n\u001b[0;32m    607\u001b[0m \u001b[39mif\u001b[39;00m chunksize \u001b[39mor\u001b[39;00m iterator:\n\u001b[0;32m    608\u001b[0m     \u001b[39mreturn\u001b[39;00m parser\n",
      "File \u001b[1;32mc:\\Users\\User\\anaconda3\\envs\\chem_pipeline\\lib\\site-packages\\pandas\\io\\parsers\\readers.py:1442\u001b[0m, in \u001b[0;36mTextFileReader.__init__\u001b[1;34m(self, f, engine, **kwds)\u001b[0m\n\u001b[0;32m   1439\u001b[0m     \u001b[39mself\u001b[39m\u001b[39m.\u001b[39moptions[\u001b[39m\"\u001b[39m\u001b[39mhas_index_names\u001b[39m\u001b[39m\"\u001b[39m] \u001b[39m=\u001b[39m kwds[\u001b[39m\"\u001b[39m\u001b[39mhas_index_names\u001b[39m\u001b[39m\"\u001b[39m]\n\u001b[0;32m   1441\u001b[0m \u001b[39mself\u001b[39m\u001b[39m.\u001b[39mhandles: IOHandles \u001b[39m|\u001b[39m \u001b[39mNone\u001b[39;00m \u001b[39m=\u001b[39m \u001b[39mNone\u001b[39;00m\n\u001b[1;32m-> 1442\u001b[0m \u001b[39mself\u001b[39m\u001b[39m.\u001b[39m_engine \u001b[39m=\u001b[39m \u001b[39mself\u001b[39;49m\u001b[39m.\u001b[39;49m_make_engine(f, \u001b[39mself\u001b[39;49m\u001b[39m.\u001b[39;49mengine)\n",
      "File \u001b[1;32mc:\\Users\\User\\anaconda3\\envs\\chem_pipeline\\lib\\site-packages\\pandas\\io\\parsers\\readers.py:1729\u001b[0m, in \u001b[0;36mTextFileReader._make_engine\u001b[1;34m(self, f, engine)\u001b[0m\n\u001b[0;32m   1727\u001b[0m     is_text \u001b[39m=\u001b[39m \u001b[39mFalse\u001b[39;00m\n\u001b[0;32m   1728\u001b[0m     mode \u001b[39m=\u001b[39m \u001b[39m\"\u001b[39m\u001b[39mrb\u001b[39m\u001b[39m\"\u001b[39m\n\u001b[1;32m-> 1729\u001b[0m \u001b[39mself\u001b[39m\u001b[39m.\u001b[39mhandles \u001b[39m=\u001b[39m get_handle(\n\u001b[0;32m   1730\u001b[0m     f,\n\u001b[0;32m   1731\u001b[0m     mode,\n\u001b[0;32m   1732\u001b[0m     encoding\u001b[39m=\u001b[39;49m\u001b[39mself\u001b[39;49m\u001b[39m.\u001b[39;49moptions\u001b[39m.\u001b[39;49mget(\u001b[39m\"\u001b[39;49m\u001b[39mencoding\u001b[39;49m\u001b[39m\"\u001b[39;49m, \u001b[39mNone\u001b[39;49;00m),\n\u001b[0;32m   1733\u001b[0m     compression\u001b[39m=\u001b[39;49m\u001b[39mself\u001b[39;49m\u001b[39m.\u001b[39;49moptions\u001b[39m.\u001b[39;49mget(\u001b[39m\"\u001b[39;49m\u001b[39mcompression\u001b[39;49m\u001b[39m\"\u001b[39;49m, \u001b[39mNone\u001b[39;49;00m),\n\u001b[0;32m   1734\u001b[0m     memory_map\u001b[39m=\u001b[39;49m\u001b[39mself\u001b[39;49m\u001b[39m.\u001b[39;49moptions\u001b[39m.\u001b[39;49mget(\u001b[39m\"\u001b[39;49m\u001b[39mmemory_map\u001b[39;49m\u001b[39m\"\u001b[39;49m, \u001b[39mFalse\u001b[39;49;00m),\n\u001b[0;32m   1735\u001b[0m     is_text\u001b[39m=\u001b[39;49mis_text,\n\u001b[0;32m   1736\u001b[0m     errors\u001b[39m=\u001b[39;49m\u001b[39mself\u001b[39;49m\u001b[39m.\u001b[39;49moptions\u001b[39m.\u001b[39;49mget(\u001b[39m\"\u001b[39;49m\u001b[39mencoding_errors\u001b[39;49m\u001b[39m\"\u001b[39;49m, \u001b[39m\"\u001b[39;49m\u001b[39mstrict\u001b[39;49m\u001b[39m\"\u001b[39;49m),\n\u001b[0;32m   1737\u001b[0m     storage_options\u001b[39m=\u001b[39;49m\u001b[39mself\u001b[39;49m\u001b[39m.\u001b[39;49moptions\u001b[39m.\u001b[39;49mget(\u001b[39m\"\u001b[39;49m\u001b[39mstorage_options\u001b[39;49m\u001b[39m\"\u001b[39;49m, \u001b[39mNone\u001b[39;49;00m),\n\u001b[0;32m   1738\u001b[0m )\n\u001b[0;32m   1739\u001b[0m \u001b[39massert\u001b[39;00m \u001b[39mself\u001b[39m\u001b[39m.\u001b[39mhandles \u001b[39mis\u001b[39;00m \u001b[39mnot\u001b[39;00m \u001b[39mNone\u001b[39;00m\n\u001b[0;32m   1740\u001b[0m f \u001b[39m=\u001b[39m \u001b[39mself\u001b[39m\u001b[39m.\u001b[39mhandles\u001b[39m.\u001b[39mhandle\n",
      "File \u001b[1;32mc:\\Users\\User\\anaconda3\\envs\\chem_pipeline\\lib\\site-packages\\pandas\\io\\common.py:857\u001b[0m, in \u001b[0;36mget_handle\u001b[1;34m(path_or_buf, mode, encoding, compression, memory_map, is_text, errors, storage_options)\u001b[0m\n\u001b[0;32m    852\u001b[0m \u001b[39melif\u001b[39;00m \u001b[39misinstance\u001b[39m(handle, \u001b[39mstr\u001b[39m):\n\u001b[0;32m    853\u001b[0m     \u001b[39m# Check whether the filename is to be opened in binary mode.\u001b[39;00m\n\u001b[0;32m    854\u001b[0m     \u001b[39m# Binary mode does not support 'encoding' and 'newline'.\u001b[39;00m\n\u001b[0;32m    855\u001b[0m     \u001b[39mif\u001b[39;00m ioargs\u001b[39m.\u001b[39mencoding \u001b[39mand\u001b[39;00m \u001b[39m\"\u001b[39m\u001b[39mb\u001b[39m\u001b[39m\"\u001b[39m \u001b[39mnot\u001b[39;00m \u001b[39min\u001b[39;00m ioargs\u001b[39m.\u001b[39mmode:\n\u001b[0;32m    856\u001b[0m         \u001b[39m# Encoding\u001b[39;00m\n\u001b[1;32m--> 857\u001b[0m         handle \u001b[39m=\u001b[39m \u001b[39mopen\u001b[39;49m(\n\u001b[0;32m    858\u001b[0m             handle,\n\u001b[0;32m    859\u001b[0m             ioargs\u001b[39m.\u001b[39;49mmode,\n\u001b[0;32m    860\u001b[0m             encoding\u001b[39m=\u001b[39;49mioargs\u001b[39m.\u001b[39;49mencoding,\n\u001b[0;32m    861\u001b[0m             errors\u001b[39m=\u001b[39;49merrors,\n\u001b[0;32m    862\u001b[0m             newline\u001b[39m=\u001b[39;49m\u001b[39m\"\u001b[39;49m\u001b[39m\"\u001b[39;49m,\n\u001b[0;32m    863\u001b[0m         )\n\u001b[0;32m    864\u001b[0m     \u001b[39melse\u001b[39;00m:\n\u001b[0;32m    865\u001b[0m         \u001b[39m# Binary mode\u001b[39;00m\n\u001b[0;32m    866\u001b[0m         handle \u001b[39m=\u001b[39m \u001b[39mopen\u001b[39m(handle, ioargs\u001b[39m.\u001b[39mmode)\n",
      "\u001b[1;31mFileNotFoundError\u001b[0m: [Errno 2] No such file or directory: './data/models/binary/metrics/BACC/rf/rf_classifier_5cv_ecfp_fp_2_1024.csv'"
     ]
    }
   ],
   "source": [
    "# PLOT BACC COMPARISON PLOT PER FINGERPRINT \n",
    "\n",
    "# make sure to enter the correct directory where auc metrics are saved\n",
    "model_0 = pd.read_csv(f'./data/models/binary/metrics/BACC/rf/rf_classifier_5cv_ecfp_fp_2_1024.csv')\n",
    "model_1 = pd.read_csv(f'./data/models/binary/metrics/BACC/lgbm/lgbm_classifier_5cv_ecfp_fp_2_1024.csv')\n",
    "model_2 = pd.read_csv(f'./data/models/binary/metrics/BACC/xgb/xgb_classifier_5cv_ecfp_fp_2_1024.csv')\n",
    "\n",
    "\n",
    "model_0 = metrics_internal_binary(model_0)\n",
    "model_1 = metrics_internal_binary(model_1)\n",
    "model_2 = metrics_internal_binary(model_2)\n",
    "\n",
    "# change the names of the algorithm accordingly (if needed you can increase the number of models compared)\n",
    "dictHolder = pd.DataFrame({'x_values':[], 'LGBM': [], 'ADABoost': [], 'XGBoost':[]})\n",
    "\n",
    "# make sure to add one more dictHolder if more than 3 algorithms are added, or to remove one if needed\n",
    "dictHolder['RF'] = [i for i in model_0['BACC']]\n",
    "dictHolder['LGBM'] = [i for i in model_1['BACC']]\n",
    "dictHolder['XGBoost'] = [i for i in model_2['BACC']]\n",
    "dictHolder['x_values'] = [f'fold_{i}' for i in range(5)]\n",
    "\n",
    "# multiple line plots, add one for each model and change algorithm name accordingly\n",
    "plt.plot( 'x_values', 'LGBM', data=dictHolder, marker='^', markerfacecolor='white', markersize=8, color='blue', linewidth=2, \n",
    "linestyle='dashed', label = f\"LGBM mean {round(st.mean(dictHolder['LGBM']), 2)}\")\n",
    "\n",
    "plt.plot( 'x_values', 'XGBoost', data=dictHolder, marker='v', markerfacecolor='white', markersize=8, color='red', linewidth=2, \n",
    "linestyle='dashed', label = f\"XGBoost mean {round(st.mean(dictHolder['XGBoost']), 2)}\")\n",
    "\n",
    "plt.plot( 'x_values', 'RF', data=dictHolder, marker='x', markerfacecolor='white', markersize=8, color='black', linewidth=2, \n",
    "linestyle='dashed', label = f\"RF mean {round(st.mean(dictHolder['RF']), 2)}\")\n",
    "\n",
    "\n",
    "# choose a title\n",
    "plt.title(f'5-fold cross validation ECFP4 1024')\n",
    "\n",
    "# choose label for y\n",
    "plt.ylabel('BACC')\n",
    "\n",
    "# show legend\n",
    "plt.legend()\n",
    "\n",
    "# save, remmeber to add the correct fingerprint in the image name before saving\n",
    "#plt.savefig(f'./data/figs/bacc_compared_nonboost_ecfp_fp_2_1024.png', dpi=300)\n",
    "#plt.clf()"
   ]
  },
  {
   "cell_type": "code",
   "execution_count": 6,
   "metadata": {
    "tags": []
   },
   "outputs": [
    {
     "data": {
      "text/plain": [
       "<Figure size 500x500 with 0 Axes>"
      ]
     },
     "metadata": {},
     "output_type": "display_data"
    }
   ],
   "source": [
    "# EXTERNAL VALIDATION\n",
    "\n",
    "# import model\n",
    "model = load('./data/models/binary/rf_classifier_fcfp_fp_2_2048.joblib')\n",
    "\n",
    "# load x external and y external (make sure to load y_ext and x_ext with the same fp used as the model)\n",
    "with open(f'./data/curated_data/y/binary/y_ext/y_ext_fcfp_fp_2_2048.json', 'r') as y_ext:\n",
    "    y_ext = json.load(y_ext)\n",
    "    y_ext = np.asarray(y_ext)\n",
    "\n",
    "# load x_ext\n",
    "with open(f'./data/curated_data/x/binary/x_ext/x_ext_fcfp_fp_2_2048.json', 'r') as x_ext:\n",
    "    x_ext = json.load(x_ext)\n",
    "    x_ext = np.asarray(x_ext)\n",
    "\n",
    "# load auc metric\n",
    "aucmetric_inner = pd.read_csv(f'./data/models/binary/metrics/AUC/rf/rf_classifier_auc_fcfp_fp_2_2048.csv')\n",
    "\n",
    "# load 5cv metrics\n",
    "crossMetrics = pd.read_csv(f'./data/models/binary/metrics/rf_classifier_5cv_fcfp_fp_2_2048_PROBA.csv')\n",
    "\n",
    "# calculate external metrics\n",
    "metrics_ext, cm = metrics_binary(model, x_ext, y_ext)\n",
    "\n",
    "# plot side by side comparison\n",
    "\n",
    "\n",
    "metrics_inner = metrics_internal_binary(crossMetrics)\n",
    "\n",
    "metrics__innermean = [np.mean(metrics_inner[column]) for column in metrics_inner.columns]\n",
    "aucmetric_inner_mean = np.mean(aucmetric_inner['test_score'])\n",
    "metrics__innermean.append(aucmetric_inner_mean)\n",
    "\n",
    "# error\n",
    "error = [np.std(metrics_inner[column]) for column in metrics_inner.columns]\n",
    "error.append(np.std(aucmetric_inner['test_score']))\n",
    "error\n",
    "\n",
    "#round numbers\n",
    "metrics__innermean = [round(number, 2) for number in metrics__innermean]\n",
    "metrics_ext = [round(number, 2) for number in metrics_ext['value']]\n",
    "                            \n",
    "\n",
    "# Example data\n",
    "metrics = ['Se','Sp','Precision', 'BACC', 'MCC', 'F1', 'AUC']\n",
    "\n",
    "y_pos = np.arange(len(metrics))\n",
    "width = 0.4\n",
    "\n",
    "fig, ax = plt.subplots()\n",
    "\n",
    "inner_bar = ax.barh(y_pos + width, metrics__innermean, width, color='lightgray', xerr=error, ecolor='black', capsize=2, label='Internal Set')\n",
    "ext_bar = ax.barh(y_pos, metrics_ext, width, color='dimgray', label='External Set')\n",
    "\n",
    "ax.bar_label(inner_bar, padding=2, label_type='edge')\n",
    "ax.bar_label(ext_bar, padding=2, label_type='edge')\n",
    "\n",
    "ax.set(yticks=y_pos + width, yticklabels=metrics, ylim=[2*width - 1, len(metrics)])\n",
    "ax.legend(loc='upper center', bbox_to_anchor=(0.5, -0.05), fancybox=True, shadow=False, ncol=5)\n",
    "\n",
    "fig.set_size_inches(5, 5)\n",
    "fig.tight_layout()\n",
    "max_list = [max(metrics__innermean), max(metrics_ext)]\n",
    "plt.xlim([0, max(max_list)+0.1])\n",
    "plt.savefig(f'./data/figs/comparison_metrics_rf_classifier_fcfp_fp_2_1024.png', dpi=300)\n",
    "plt.clf()"
   ]
  },
  {
   "cell_type": "code",
   "execution_count": 7,
   "metadata": {
    "tags": []
   },
   "outputs": [
    {
     "data": {
      "text/plain": [
       "Text(0.5, 1.0, 'Confusion Matrix RF ECFP4 2048')"
      ]
     },
     "execution_count": 7,
     "metadata": {},
     "output_type": "execute_result"
    },
    {
     "data": {
      "image/png": "[encoded data removed]",
      "text/plain": [
       "<Figure size 640x480 with 2 Axes>"
      ]
     },
     "metadata": {},
     "output_type": "display_data"
    }
   ],
   "source": [
    "# plot confusion matrix\n",
    "disp = ConfusionMatrixDisplay(confusion_matrix=cm, display_labels=model.classes_)\n",
    "disp.plot()\n",
    "\n",
    "# save fig\n",
    "plt.title(f'Confusion Matrix RF ECFP4 2048')\n",
    "#plt.savefig(f'./data/figs/confusion_matrix_rf_ecfp_2_1024.png', dpi=300)\n",
    "#plt.clf()"
   ]
  },
  {
   "cell_type": "code",
   "execution_count": 8,
   "metadata": {
    "tags": []
   },
   "outputs": [
    {
     "data": {
      "image/png": "[encoded data removed]",
      "text/plain": [
       "<Figure size 640x480 with 1 Axes>"
      ]
     },
     "metadata": {},
     "output_type": "display_data"
    }
   ],
   "source": [
    "A = [cm[1, 1], cm[0, 0]]\n",
    "B = [cm[1, 0], cm[0, 1]]\n",
    "\n",
    "fig = plt.figure(facecolor=\"white\")\n",
    "\n",
    "ax = fig.subplots()\n",
    "bar_width = 0.9\n",
    "bar_l = np.arange(1, 3)\n",
    "tick_pos = [i + (bar_width / 30) for i in bar_l]\n",
    "\n",
    "ax2 = ax.bar(bar_l, A, width=bar_width, label=\"A\", color=\"darkseagreen\")\n",
    "ax1 = ax.bar(bar_l, B, bottom=A, width=bar_width, label=\"B\", color=\"lightcoral\")\n",
    "ax.set_ylabel(\"Count\", fontsize=10)\n",
    "totals = [sum([cm[1, 1], cm[1, 0]]), sum([cm[0, 0], cm[0, 1]])]\n",
    "plt.legend([\"Predicted correctly\", \"Predicted wrongly\"], bbox_to_anchor=(0.45, -0.09), loc='upper center', ncol=1)\n",
    "plt.xticks(tick_pos, [f\"Total Negatives: {totals[0]}\", f\"Total Positives: {totals[1]}\"], fontsize=10)\n",
    "plt.title(f'Confusion Matrix RF ECFP4 1024')\n",
    "plt.yticks(fontsize=10)\n",
    "\n",
    "for r1, r2 in zip(ax2, ax1):\n",
    "    h1 = r1.get_height()\n",
    "    h2 = r2.get_height()\n",
    "    plt.text(r1.get_x() + r1.get_width() / 2., h1 / 2., \"%d\" % h1, ha=\"center\", va=\"bottom\", color=\"white\", fontsize=10, fontweight=\"bold\")\n",
    "    plt.text(r2.get_x() + r2.get_width() / 2., h1 + h2 / 2., \"%d\" % h2, ha=\"center\", va=\"bottom\", color=\"white\", fontsize=10, fontweight=\"bold\")\n",
    "\n",
    "#plt.savefig(f'./data/figs/barplotconfusion_matrix_{modelname}_{fp_used}.png', dpi=300, bbox_inches = 'tight')\n",
    "#plt.clf()"
   ]
  },
  {
   "cell_type": "code",
   "execution_count": null,
   "metadata": {},
   "outputs": [],
   "source": []
  }
 ],
 "metadata": {
  "kernelspec": {
   "display_name": "chem_pipeline",
   "language": "python",
   "name": "python3"
  },
  "language_info": {
   "codemirror_mode": {
    "name": "ipython",
    "version": 3
   },
   "file_extension": ".py",
   "mimetype": "text/x-python",
   "name": "python",
   "nbconvert_exporter": "python",
   "pygments_lexer": "ipython3",
   "version": "3.10.6"
  },
  "vscode": {
   "interpreter": {
    "hash": "b502b6b601d695bcc5e0370b0f9b3cb77068e9eb51b3927ba26dd635c08f69fb"
   }
  }
 },
 "nbformat": 4,
 "nbformat_minor": 4
}
